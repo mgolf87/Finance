{
 "cells": [
  {
   "cell_type": "markdown",
   "id": "d25fcd6f",
   "metadata": {},
   "source": [
    "# Decision Tree Stock Close Price Prediction"
   ]
  },
  {
   "cell_type": "code",
   "execution_count": 1,
   "id": "bf42b559",
   "metadata": {},
   "outputs": [],
   "source": [
    "# decision tree used to predict if the price of stock will increase or decrease\n",
    "# tomorrows close price higher or lower than todays close price"
   ]
  },
  {
   "cell_type": "code",
   "execution_count": 2,
   "id": "dafb85ac",
   "metadata": {},
   "outputs": [],
   "source": [
    "from sklearn.model_selection import train_test_split\n",
    "from sklearn.tree import DecisionTreeClassifier\n",
    "import numpy as np\n",
    "import pandas as pd"
   ]
  },
  {
   "cell_type": "code",
   "execution_count": 3,
   "id": "57e81fab",
   "metadata": {},
   "outputs": [],
   "source": [
    "# load data\n",
    "df = pd.read_csv(\"C:/Users/Mathe/Desktop/TSLA.csv\")"
   ]
  },
  {
   "cell_type": "code",
   "execution_count": 8,
   "id": "da21f9e5",
   "metadata": {},
   "outputs": [],
   "source": [
    "# set date as index\n",
    "df = df.set_index(pd.DatetimeIndex(df['Date'].values))\n",
    "# give index a name\n",
    "df.index.name = 'Date'"
   ]
  },
  {
   "cell_type": "code",
   "execution_count": 11,
   "id": "09801f6c",
   "metadata": {},
   "outputs": [
    {
     "data": {
      "text/html": [
       "<div>\n",
       "<style scoped>\n",
       "    .dataframe tbody tr th:only-of-type {\n",
       "        vertical-align: middle;\n",
       "    }\n",
       "\n",
       "    .dataframe tbody tr th {\n",
       "        vertical-align: top;\n",
       "    }\n",
       "\n",
       "    .dataframe thead th {\n",
       "        text-align: right;\n",
       "    }\n",
       "</style>\n",
       "<table border=\"1\" class=\"dataframe\">\n",
       "  <thead>\n",
       "    <tr style=\"text-align: right;\">\n",
       "      <th></th>\n",
       "      <th>Open</th>\n",
       "      <th>High</th>\n",
       "      <th>Low</th>\n",
       "      <th>Close</th>\n",
       "      <th>Adj Close</th>\n",
       "      <th>Volume</th>\n",
       "      <th>Price_Up</th>\n",
       "    </tr>\n",
       "    <tr>\n",
       "      <th>Date</th>\n",
       "      <th></th>\n",
       "      <th></th>\n",
       "      <th></th>\n",
       "      <th></th>\n",
       "      <th></th>\n",
       "      <th></th>\n",
       "      <th></th>\n",
       "    </tr>\n",
       "  </thead>\n",
       "  <tbody>\n",
       "    <tr>\n",
       "      <th>2020-10-15</th>\n",
       "      <td>450.309998</td>\n",
       "      <td>456.570007</td>\n",
       "      <td>442.500000</td>\n",
       "      <td>448.880005</td>\n",
       "      <td>448.880005</td>\n",
       "      <td>35672400</td>\n",
       "      <td>0</td>\n",
       "    </tr>\n",
       "    <tr>\n",
       "      <th>2020-10-16</th>\n",
       "      <td>454.440002</td>\n",
       "      <td>455.950012</td>\n",
       "      <td>438.850006</td>\n",
       "      <td>439.670013</td>\n",
       "      <td>439.670013</td>\n",
       "      <td>32775900</td>\n",
       "      <td>0</td>\n",
       "    </tr>\n",
       "    <tr>\n",
       "      <th>2020-10-19</th>\n",
       "      <td>446.239990</td>\n",
       "      <td>447.000000</td>\n",
       "      <td>428.869995</td>\n",
       "      <td>430.829987</td>\n",
       "      <td>430.829987</td>\n",
       "      <td>36287800</td>\n",
       "      <td>0</td>\n",
       "    </tr>\n",
       "    <tr>\n",
       "      <th>2020-10-20</th>\n",
       "      <td>431.750000</td>\n",
       "      <td>431.750000</td>\n",
       "      <td>419.049988</td>\n",
       "      <td>421.940002</td>\n",
       "      <td>421.940002</td>\n",
       "      <td>31656300</td>\n",
       "      <td>1</td>\n",
       "    </tr>\n",
       "    <tr>\n",
       "      <th>2020-10-21</th>\n",
       "      <td>422.700012</td>\n",
       "      <td>432.950012</td>\n",
       "      <td>421.250000</td>\n",
       "      <td>422.640015</td>\n",
       "      <td>422.640015</td>\n",
       "      <td>32370500</td>\n",
       "      <td>1</td>\n",
       "    </tr>\n",
       "    <tr>\n",
       "      <th>...</th>\n",
       "      <td>...</td>\n",
       "      <td>...</td>\n",
       "      <td>...</td>\n",
       "      <td>...</td>\n",
       "      <td>...</td>\n",
       "      <td>...</td>\n",
       "      <td>...</td>\n",
       "    </tr>\n",
       "    <tr>\n",
       "      <th>2021-10-08</th>\n",
       "      <td>796.210022</td>\n",
       "      <td>796.380005</td>\n",
       "      <td>780.909973</td>\n",
       "      <td>785.489990</td>\n",
       "      <td>785.489990</td>\n",
       "      <td>16711100</td>\n",
       "      <td>1</td>\n",
       "    </tr>\n",
       "    <tr>\n",
       "      <th>2021-10-11</th>\n",
       "      <td>787.650024</td>\n",
       "      <td>801.239990</td>\n",
       "      <td>785.500000</td>\n",
       "      <td>791.940002</td>\n",
       "      <td>791.940002</td>\n",
       "      <td>14200300</td>\n",
       "      <td>1</td>\n",
       "    </tr>\n",
       "    <tr>\n",
       "      <th>2021-10-12</th>\n",
       "      <td>800.929993</td>\n",
       "      <td>812.320007</td>\n",
       "      <td>796.570007</td>\n",
       "      <td>805.719971</td>\n",
       "      <td>805.719971</td>\n",
       "      <td>22020000</td>\n",
       "      <td>1</td>\n",
       "    </tr>\n",
       "    <tr>\n",
       "      <th>2021-10-13</th>\n",
       "      <td>810.469971</td>\n",
       "      <td>815.409973</td>\n",
       "      <td>805.780029</td>\n",
       "      <td>811.080017</td>\n",
       "      <td>811.080017</td>\n",
       "      <td>14120100</td>\n",
       "      <td>1</td>\n",
       "    </tr>\n",
       "    <tr>\n",
       "      <th>2021-10-14</th>\n",
       "      <td>815.489990</td>\n",
       "      <td>820.250000</td>\n",
       "      <td>813.349976</td>\n",
       "      <td>818.320007</td>\n",
       "      <td>818.320007</td>\n",
       "      <td>12203200</td>\n",
       "      <td>0</td>\n",
       "    </tr>\n",
       "  </tbody>\n",
       "</table>\n",
       "<p>252 rows × 7 columns</p>\n",
       "</div>"
      ],
      "text/plain": [
       "                  Open        High         Low       Close   Adj Close  \\\n",
       "Date                                                                     \n",
       "2020-10-15  450.309998  456.570007  442.500000  448.880005  448.880005   \n",
       "2020-10-16  454.440002  455.950012  438.850006  439.670013  439.670013   \n",
       "2020-10-19  446.239990  447.000000  428.869995  430.829987  430.829987   \n",
       "2020-10-20  431.750000  431.750000  419.049988  421.940002  421.940002   \n",
       "2020-10-21  422.700012  432.950012  421.250000  422.640015  422.640015   \n",
       "...                ...         ...         ...         ...         ...   \n",
       "2021-10-08  796.210022  796.380005  780.909973  785.489990  785.489990   \n",
       "2021-10-11  787.650024  801.239990  785.500000  791.940002  791.940002   \n",
       "2021-10-12  800.929993  812.320007  796.570007  805.719971  805.719971   \n",
       "2021-10-13  810.469971  815.409973  805.780029  811.080017  811.080017   \n",
       "2021-10-14  815.489990  820.250000  813.349976  818.320007  818.320007   \n",
       "\n",
       "              Volume  Price_Up  \n",
       "Date                            \n",
       "2020-10-15  35672400         0  \n",
       "2020-10-16  32775900         0  \n",
       "2020-10-19  36287800         0  \n",
       "2020-10-20  31656300         1  \n",
       "2020-10-21  32370500         1  \n",
       "...              ...       ...  \n",
       "2021-10-08  16711100         1  \n",
       "2021-10-11  14200300         1  \n",
       "2021-10-12  22020000         1  \n",
       "2021-10-13  14120100         1  \n",
       "2021-10-14  12203200         0  \n",
       "\n",
       "[252 rows x 7 columns]"
      ]
     },
     "execution_count": 11,
     "metadata": {},
     "output_type": "execute_result"
    }
   ],
   "source": [
    "df"
   ]
  },
  {
   "cell_type": "code",
   "execution_count": 10,
   "id": "c34064c7",
   "metadata": {},
   "outputs": [],
   "source": [
    "# manipulate data - create target column\n",
    "df['Price_Up'] = np.where(df['Close'].shift(-1) > df['Close'], 1, 0) # shift(-1) is tomorrows close price, return value 1 when\n",
    "# tomorrows close price is greater than todays close price else return 0\n",
    "\n",
    "# remove date column\n",
    "df = df.drop(columns=['Date'])"
   ]
  },
  {
   "cell_type": "code",
   "execution_count": 32,
   "id": "aa6d5db1",
   "metadata": {},
   "outputs": [
    {
     "name": "stdout",
     "output_type": "stream",
     "text": [
      "0.6862745098039216\n"
     ]
    }
   ],
   "source": [
    "# split data set into a feature and a target data set\n",
    "X = df.iloc[:, 0:df.shape[1]-1].values # dont want last column\n",
    "Y = df.iloc[:, df.shape[1]-1].values\n",
    "\n",
    "# 80% training, 20% testing sets\n",
    "X_train, X_test, Y_train, Y_test = train_test_split(X, Y, test_size = 0.2)\n",
    "\n",
    "# create and train the model (DecisionTreeClassifier)\n",
    "tree = DecisionTreeClassifier().fit(X_train, Y_train)\n",
    "\n",
    "# evaluate model\n",
    "print(tree.score(X_test, Y_test))"
   ]
  },
  {
   "cell_type": "code",
   "execution_count": 33,
   "id": "b3bb372c",
   "metadata": {},
   "outputs": [
    {
     "name": "stdout",
     "output_type": "stream",
     "text": [
      "[1 0 1 1 0 0 0 1 0 1 0 0 1 0 0 1 0 0 1 1 1 1 0 1 0 0 0 0 0 0 1 0 1 0 0 1 1\n",
      " 0 1 0 1 1 0 0 1 1 1 1 0 0 1]\n"
     ]
    }
   ],
   "source": [
    "# show model predictions\n",
    "tree_predictions = tree.predict(X_test)\n",
    "print(tree_predictions)"
   ]
  },
  {
   "cell_type": "code",
   "execution_count": 34,
   "id": "c42a5054",
   "metadata": {},
   "outputs": [
    {
     "data": {
      "text/plain": [
       "array([0, 0, 1, 1, 1, 1, 0, 1, 1, 1, 0, 0, 0, 0, 1, 1, 1, 0, 1, 0, 0, 1,\n",
       "       0, 1, 0, 0, 0, 0, 0, 0, 1, 0, 1, 0, 1, 0, 0, 0, 1, 1, 1, 0, 0, 0,\n",
       "       1, 1, 0, 1, 0, 1, 1])"
      ]
     },
     "execution_count": 34,
     "metadata": {},
     "output_type": "execute_result"
    }
   ],
   "source": [
    "# show actual values\n",
    "Y_test"
   ]
  }
 ],
 "metadata": {
  "kernelspec": {
   "display_name": "Python 3",
   "language": "python",
   "name": "python3"
  },
  "language_info": {
   "codemirror_mode": {
    "name": "ipython",
    "version": 3
   },
   "file_extension": ".py",
   "mimetype": "text/x-python",
   "name": "python",
   "nbconvert_exporter": "python",
   "pygments_lexer": "ipython3",
   "version": "3.8.8"
  }
 },
 "nbformat": 4,
 "nbformat_minor": 5
}
