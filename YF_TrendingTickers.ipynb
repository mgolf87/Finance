{
 "cells": [
  {
   "cell_type": "markdown",
   "id": "25df1f87",
   "metadata": {},
   "source": [
    "# Yahoo Finance Trending Ticker Scraper"
   ]
  },
  {
   "cell_type": "code",
   "execution_count": null,
   "id": "218ae49a",
   "metadata": {},
   "outputs": [],
   "source": [
    "# Web Scraper for Yahoo Finance Trending Tickers\n",
    "\n",
    "# Code adapted from @QuantMate on YouTube"
   ]
  },
  {
   "cell_type": "code",
   "execution_count": 2,
   "id": "618faad1",
   "metadata": {},
   "outputs": [],
   "source": [
    "import requests"
   ]
  },
  {
   "cell_type": "code",
   "execution_count": 20,
   "id": "6363d1b8",
   "metadata": {},
   "outputs": [],
   "source": [
    "url = \"https://query2.finance.yahoo.com/v1/finance/trending/US?count=5\"\n",
    "header = {'user-agent':\"Mozilla/5.0 (Windows NT 10.0; Win64; x64) AppleWebKit/537.36 (KHTML, like Gecko) Chrome/77.0.3865.90 Safari/537.36\"}\n",
    "response = requests.get(url, headers=header)"
   ]
  },
  {
   "cell_type": "code",
   "execution_count": 21,
   "id": "e3e392b4",
   "metadata": {},
   "outputs": [
    {
     "data": {
      "text/plain": [
       "b'{\"finance\":{\"result\":[{\"count\":5,\"quotes\":[{\"symbol\":\"MIME\"},{\"symbol\":\"COHU\"},{\"symbol\":\"NFLX\"},{\"symbol\":\"COST\"},{\"symbol\":\"EARN\"}],\"jobTimestamp\":1634508548003,\"startInterval\":202110172100}],\"error\":null}}'"
      ]
     },
     "execution_count": 21,
     "metadata": {},
     "output_type": "execute_result"
    }
   ],
   "source": [
    "response.content"
   ]
  },
  {
   "cell_type": "code",
   "execution_count": 22,
   "id": "db06a162",
   "metadata": {},
   "outputs": [
    {
     "data": {
      "text/plain": [
       "{'finance': {'result': [{'count': 5,\n",
       "    'quotes': [{'symbol': 'MIME'},\n",
       "     {'symbol': 'COHU'},\n",
       "     {'symbol': 'NFLX'},\n",
       "     {'symbol': 'COST'},\n",
       "     {'symbol': 'EARN'}],\n",
       "    'jobTimestamp': 1634508548003,\n",
       "    'startInterval': 202110172100}],\n",
       "  'error': None}}"
      ]
     },
     "execution_count": 22,
     "metadata": {},
     "output_type": "execute_result"
    }
   ],
   "source": [
    "response.json()"
   ]
  },
  {
   "cell_type": "code",
   "execution_count": 23,
   "id": "cb51f8f7",
   "metadata": {},
   "outputs": [],
   "source": [
    "data = response.json()"
   ]
  },
  {
   "cell_type": "code",
   "execution_count": 24,
   "id": "5ecf891b",
   "metadata": {},
   "outputs": [
    {
     "data": {
      "text/plain": [
       "[{'symbol': 'MIME'},\n",
       " {'symbol': 'COHU'},\n",
       " {'symbol': 'NFLX'},\n",
       " {'symbol': 'COST'},\n",
       " {'symbol': 'EARN'}]"
      ]
     },
     "execution_count": 24,
     "metadata": {},
     "output_type": "execute_result"
    }
   ],
   "source": [
    "data[\"finance\"][\"result\"][0][\"quotes\"] # access finance>result>first item>quotes "
   ]
  },
  {
   "cell_type": "code",
   "execution_count": 25,
   "id": "4a509bc0",
   "metadata": {},
   "outputs": [
    {
     "name": "stdout",
     "output_type": "stream",
     "text": [
      "0 {'symbol': 'MIME'}\n",
      "1 {'symbol': 'COHU'}\n",
      "2 {'symbol': 'NFLX'}\n",
      "3 {'symbol': 'COST'}\n",
      "4 {'symbol': 'EARN'}\n"
     ]
    }
   ],
   "source": [
    "for index, quote in enumerate(data[\"finance\"][\"result\"][0][\"quotes\"]):\n",
    "    print(index, quote)"
   ]
  },
  {
   "cell_type": "code",
   "execution_count": 27,
   "id": "b7294940",
   "metadata": {},
   "outputs": [],
   "source": [
    "from datetime import datetime\n",
    "\n",
    "trend_list = []\n",
    "date_time_str = datetime.utcnow().strftime(\"%Y-%m-%d %H:%M:%S\")\n",
    "\n",
    "for index, quote in enumerate(data[\"finance\"][\"result\"][0][\"quotes\"]):\n",
    "    trend_list.append([date_time_str, quote[\"symbol\"],index+1])"
   ]
  },
  {
   "cell_type": "code",
   "execution_count": 28,
   "id": "0c9c475b",
   "metadata": {},
   "outputs": [
    {
     "data": {
      "text/plain": [
       "[['2021-10-17 22:38:10', 'MIME', 1],\n",
       " ['2021-10-17 22:38:10', 'COHU', 2],\n",
       " ['2021-10-17 22:38:10', 'NFLX', 3],\n",
       " ['2021-10-17 22:38:10', 'COST', 4],\n",
       " ['2021-10-17 22:38:10', 'EARN', 5]]"
      ]
     },
     "execution_count": 28,
     "metadata": {},
     "output_type": "execute_result"
    }
   ],
   "source": [
    "trend_list\n",
    "# we are interested in the time of the trending tickers as well as the ticker and its rank i.e. 1 = highest trend"
   ]
  },
  {
   "cell_type": "code",
   "execution_count": 30,
   "id": "8991e4a1",
   "metadata": {},
   "outputs": [],
   "source": [
    "import csv\n",
    "# csv file where we will write the time, ticker, and rank of trending\n",
    "def append_data(data):\n",
    "    with open(\"yf_trending.csv\", \"a\", newline=\"\") as f:\n",
    "        writer = csv.writer(f)\n",
    "        writer.writerows(trend_list)"
   ]
  },
  {
   "cell_type": "code",
   "execution_count": 31,
   "id": "53f40768",
   "metadata": {},
   "outputs": [],
   "source": [
    "# combining the code above to generate the trending tickers on Yahoo Finance\n",
    "def get_trending():\n",
    "    trend_list = []\n",
    "    url = \"https://query2.finance.yahoo.com/v1/finance/trending/US?count=5\"\n",
    "    header = {'user-agent':\"Mozilla/5.0 (Windows NT 10.0; Win64; x64) AppleWebKit/537.36 (KHTML, like Gecko) Chrome/77.0.3865.90 Safari/537.36\"}\n",
    "    response = requests.get(url, headers=header)\n",
    "    data = response.json()\n",
    "    date_time_str = datetime.utcnow().strftime(\"%Y-%m-%d %H:%M:%S\")\n",
    "\n",
    "    for index, quote in enumerate(data[\"finance\"][\"result\"][0][\"quotes\"]):\n",
    "        trend_list.append([date_time_str, quote[\"symbol\"],index+1])\n",
    "    append_data(trend_list)"
   ]
  },
  {
   "cell_type": "code",
   "execution_count": 32,
   "id": "5bae985c",
   "metadata": {},
   "outputs": [],
   "source": [
    "get_trending()"
   ]
  },
  {
   "cell_type": "code",
   "execution_count": 33,
   "id": "365954ad",
   "metadata": {},
   "outputs": [],
   "source": [
    "import time\n",
    "def get_trending_loop(pause):\n",
    "    while True:\n",
    "        get_trending()\n",
    "        print(\"Scraping Trending Tickers\")\n",
    "        time.sleep(pause)"
   ]
  },
  {
   "cell_type": "code",
   "execution_count": 35,
   "id": "a5a17780",
   "metadata": {},
   "outputs": [
    {
     "ename": "KeyboardInterrupt",
     "evalue": "",
     "output_type": "error",
     "traceback": [
      "\u001b[1;31m---------------------------------------------------------------------------\u001b[0m",
      "\u001b[1;31mKeyboardInterrupt\u001b[0m                         Traceback (most recent call last)",
      "\u001b[1;32m<ipython-input-35-2ebf015b6370>\u001b[0m in \u001b[0;36m<module>\u001b[1;34m\u001b[0m\n\u001b[1;32m----> 1\u001b[1;33m \u001b[0mget_trending_loop\u001b[0m\u001b[1;33m(\u001b[0m\u001b[1;36m60\u001b[0m\u001b[1;33m)\u001b[0m\u001b[1;33m\u001b[0m\u001b[1;33m\u001b[0m\u001b[0m\n\u001b[0m",
      "\u001b[1;32m<ipython-input-33-24241e372d88>\u001b[0m in \u001b[0;36mget_trending_loop\u001b[1;34m(pause)\u001b[0m\n\u001b[0;32m      3\u001b[0m     \u001b[1;32mwhile\u001b[0m \u001b[1;32mTrue\u001b[0m\u001b[1;33m:\u001b[0m\u001b[1;33m\u001b[0m\u001b[1;33m\u001b[0m\u001b[0m\n\u001b[0;32m      4\u001b[0m         \u001b[0mget_trending\u001b[0m\u001b[1;33m(\u001b[0m\u001b[1;33m)\u001b[0m\u001b[1;33m\u001b[0m\u001b[1;33m\u001b[0m\u001b[0m\n\u001b[1;32m----> 5\u001b[1;33m         \u001b[0mtime\u001b[0m\u001b[1;33m.\u001b[0m\u001b[0msleep\u001b[0m\u001b[1;33m(\u001b[0m\u001b[0mpause\u001b[0m\u001b[1;33m)\u001b[0m\u001b[1;33m\u001b[0m\u001b[1;33m\u001b[0m\u001b[0m\n\u001b[0m",
      "\u001b[1;31mKeyboardInterrupt\u001b[0m: "
     ]
    }
   ],
   "source": [
    "get_trending_loop(60)\n",
    "# check for trending tickers every minute uploading/saving them to a csv file"
   ]
  },
  {
   "cell_type": "code",
   "execution_count": null,
   "id": "5c2394fc",
   "metadata": {},
   "outputs": [],
   "source": []
  }
 ],
 "metadata": {
  "kernelspec": {
   "display_name": "Python 3",
   "language": "python",
   "name": "python3"
  },
  "language_info": {
   "codemirror_mode": {
    "name": "ipython",
    "version": 3
   },
   "file_extension": ".py",
   "mimetype": "text/x-python",
   "name": "python",
   "nbconvert_exporter": "python",
   "pygments_lexer": "ipython3",
   "version": "3.8.8"
  }
 },
 "nbformat": 4,
 "nbformat_minor": 5
}
