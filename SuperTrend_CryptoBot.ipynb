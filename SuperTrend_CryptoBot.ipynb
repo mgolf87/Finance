{
 "cells": [
  {
   "cell_type": "markdown",
   "id": "29c5940a",
   "metadata": {},
   "source": [
    "# Supertrend Crypto Trading Bot"
   ]
  },
  {
   "cell_type": "code",
   "execution_count": null,
   "id": "9a94a569",
   "metadata": {},
   "outputs": [],
   "source": [
    "# Average True Range (ATR): measure of market volatility via decomposing the entire range of an assest price for that period\n",
    "# True Range (TR): Max [current high - current low] OR Max [abs(current high - previous close)] \n",
    "# OR Max [abs(current low - previous close)] i.e. Max[CH-CL, abs(CH-PC), abs(CL-PC)]\n",
    "# ATR is just the average of the TR over a specified period\n",
    "#\n",
    "#\n",
    "# code adapted from @Part Time Larry on YouTube\n",
    "# https://github.com/hackingthemarkets"
   ]
  },
  {
   "cell_type": "code",
   "execution_count": 6,
   "id": "df298e7c",
   "metadata": {
    "scrolled": true
   },
   "outputs": [
    {
     "name": "stdout",
     "output_type": "stream",
     "text": [
      "Collecting ccxt\n",
      "  Downloading ccxt-1.58.55-py2.py3-none-any.whl (2.0 MB)\n",
      "Requirement already satisfied: requests>=2.18.4 in c:\\users\\mathe\\anaconda3\\lib\\site-packages (from ccxt) (2.25.1)\n",
      "Requirement already satisfied: aiohttp<3.8,>=3.7.4 in c:\\users\\mathe\\anaconda3\\lib\\site-packages (from ccxt) (3.7.4.post0)\n",
      "Requirement already satisfied: setuptools>=38.5.1 in c:\\users\\mathe\\anaconda3\\lib\\site-packages (from ccxt) (52.0.0.post20210125)\n",
      "Collecting yarl==1.6.3\n",
      "  Using cached yarl-1.6.3-cp38-cp38-win_amd64.whl (125 kB)\n",
      "Requirement already satisfied: cryptography>=2.6.1 in c:\\users\\mathe\\anaconda3\\lib\\site-packages (from ccxt) (3.4.7)\n",
      "Requirement already satisfied: certifi>=2018.1.18 in c:\\users\\mathe\\anaconda3\\lib\\site-packages (from ccxt) (2020.12.5)\n",
      "Collecting aiodns>=1.1.1\n",
      "  Downloading aiodns-3.0.0-py3-none-any.whl (5.0 kB)\n",
      "Requirement already satisfied: multidict>=4.0 in c:\\users\\mathe\\anaconda3\\lib\\site-packages (from yarl==1.6.3->ccxt) (5.2.0)\n",
      "Requirement already satisfied: idna>=2.0 in c:\\users\\mathe\\anaconda3\\lib\\site-packages (from yarl==1.6.3->ccxt) (2.10)\n",
      "Collecting pycares>=4.0.0\n",
      "  Downloading pycares-4.1.2-cp38-cp38-win_amd64.whl (83 kB)\n",
      "Requirement already satisfied: async-timeout<4.0,>=3.0 in c:\\users\\mathe\\anaconda3\\lib\\site-packages (from aiohttp<3.8,>=3.7.4->ccxt) (3.0.1)\n",
      "Requirement already satisfied: attrs>=17.3.0 in c:\\users\\mathe\\anaconda3\\lib\\site-packages (from aiohttp<3.8,>=3.7.4->ccxt) (20.3.0)\n",
      "Requirement already satisfied: chardet<5.0,>=2.0 in c:\\users\\mathe\\anaconda3\\lib\\site-packages (from aiohttp<3.8,>=3.7.4->ccxt) (4.0.0)\n",
      "Requirement already satisfied: typing-extensions>=3.6.5 in c:\\users\\mathe\\anaconda3\\lib\\site-packages (from aiohttp<3.8,>=3.7.4->ccxt) (3.7.4.3)\n",
      "Requirement already satisfied: cffi>=1.12 in c:\\users\\mathe\\anaconda3\\lib\\site-packages (from cryptography>=2.6.1->ccxt) (1.14.5)\n",
      "Requirement already satisfied: pycparser in c:\\users\\mathe\\anaconda3\\lib\\site-packages (from cffi>=1.12->cryptography>=2.6.1->ccxt) (2.20)\n",
      "Requirement already satisfied: urllib3<1.27,>=1.21.1 in c:\\users\\mathe\\anaconda3\\lib\\site-packages (from requests>=2.18.4->ccxt) (1.26.4)\n",
      "Installing collected packages: yarl, pycares, aiodns, ccxt\n",
      "  Attempting uninstall: yarl\n",
      "    Found existing installation: yarl 1.7.0\n",
      "    Uninstalling yarl-1.7.0:\n",
      "      Successfully uninstalled yarl-1.7.0\n",
      "Successfully installed aiodns-3.0.0 ccxt-1.58.55 pycares-4.1.2 yarl-1.6.3\n",
      "Note: you may need to restart the kernel to use updated packages.\n"
     ]
    }
   ],
   "source": [
    "pip install ccxt"
   ]
  },
  {
   "cell_type": "code",
   "execution_count": 4,
   "id": "9f4738ea",
   "metadata": {
    "scrolled": true
   },
   "outputs": [
    {
     "name": "stdout",
     "output_type": "stream",
     "text": [
      "Collecting schedule\n",
      "  Downloading schedule-1.1.0-py2.py3-none-any.whl (10 kB)\n",
      "Installing collected packages: schedule\n",
      "Successfully installed schedule-1.1.0\n",
      "Note: you may need to restart the kernel to use updated packages.\n"
     ]
    }
   ],
   "source": [
    "pip install schedule"
   ]
  },
  {
   "cell_type": "code",
   "execution_count": 2,
   "id": "8c4a5bbd",
   "metadata": {
    "scrolled": false
   },
   "outputs": [
    {
     "name": "stdout",
     "output_type": "stream",
     "text": [
      "Collecting ta\n",
      "  Downloading ta-0.7.0.tar.gz (25 kB)\n",
      "Requirement already satisfied: numpy in c:\\users\\mathe\\anaconda3\\lib\\site-packages (from ta) (1.20.1)\n",
      "Requirement already satisfied: pandas in c:\\users\\mathe\\anaconda3\\lib\\site-packages (from ta) (1.2.4)\n",
      "Requirement already satisfied: pytz>=2017.3 in c:\\users\\mathe\\anaconda3\\lib\\site-packages (from pandas->ta) (2021.1)\n",
      "Requirement already satisfied: python-dateutil>=2.7.3 in c:\\users\\mathe\\anaconda3\\lib\\site-packages (from pandas->ta) (2.8.1)\n",
      "Requirement already satisfied: six>=1.5 in c:\\users\\mathe\\anaconda3\\lib\\site-packages (from python-dateutil>=2.7.3->pandas->ta) (1.15.0)\n",
      "Building wheels for collected packages: ta\n",
      "  Building wheel for ta (setup.py): started\n",
      "  Building wheel for ta (setup.py): finished with status 'done'\n",
      "  Created wheel for ta: filename=ta-0.7.0-py3-none-any.whl size=28718 sha256=42fabe0f21b723f1a2bfbce62f159f8f87f156905073fd9b46d2b0cb1bc4b399\n",
      "  Stored in directory: c:\\users\\mathe\\appdata\\local\\pip\\cache\\wheels\\bb\\7c\\a0\\9c72e50ddef1f7c3d9003bf4ccc5d5c8deb24828d4eb156fc8\n",
      "Successfully built ta\n",
      "Installing collected packages: ta\n",
      "Successfully installed ta-0.7.0\n",
      "Note: you may need to restart the kernel to use updated packages.\n"
     ]
    }
   ],
   "source": [
    "pip install ta"
   ]
  },
  {
   "cell_type": "code",
   "execution_count": 9,
   "id": "c3588b58",
   "metadata": {},
   "outputs": [],
   "source": [
    "import ta # technical analysis library\n",
    "import schedule\n",
    "import ccxt\n",
    "import pandas as pd\n",
    "pd.set_option('display.max_rows', None) # displays all rows\n",
    "\n",
    "import warnings\n",
    "warnings.filterwarnings('ignore')\n",
    "\n",
    "import numpy as np\n",
    "from datetime import datetime\n",
    "import time"
   ]
  },
  {
   "cell_type": "code",
   "execution_count": null,
   "id": "ea217694",
   "metadata": {},
   "outputs": [],
   "source": [
    "# change such that it connects to your key\n",
    "NDAX_API_KEY = 'yourndaxapikey' # create a general key - read only\n",
    "NDAX_SECRET_KEY = 'yourndaxsecretkey' # create a trading key"
   ]
  },
  {
   "cell_type": "code",
   "execution_count": null,
   "id": "51b8d340",
   "metadata": {},
   "outputs": [],
   "source": [
    "# change based on site/broker used\n",
    "ndax = ccxt.ndax({\n",
    "    'apiKey': config.NDAX_API_KEY,\n",
    "    'secret': config.NDAX_SECRET_KEY,\n",
    "})"
   ]
  },
  {
   "cell_type": "code",
   "execution_count": 10,
   "id": "0f67530f",
   "metadata": {},
   "outputs": [],
   "source": [
    "# True Range\n",
    "def tr(data):\n",
    "    data['previous_close'] = data['close'].shift(1)\n",
    "    data['high-low'] = abs(data['high'] - data['low']) # current high - current low\n",
    "    data['high-pc'] = abs(data['high'] - data['previous_close']) # current high - previous close\n",
    "    data['low-pc'] = abs(data['low'] - data['previous_close']) # current low - precious close\n",
    "\n",
    "    tr = data[['high-low', 'high-pc', 'low-pc']].max(axis=1)\n",
    "    # Max[CH-CL, abs(CH-PC), abs(CL-PC)]\n",
    "    \n",
    "    return tr\n"
   ]
  },
  {
   "cell_type": "code",
   "execution_count": 12,
   "id": "ea9267cf",
   "metadata": {},
   "outputs": [],
   "source": [
    "# Average True Range\n",
    "def atr(data, period):\n",
    "    data['tr'] = tr(data)\n",
    "    atr = data['tr'].rolling(period).mean() # finds the atr of the tr over a given period length\n",
    "\n",
    "    return atr"
   ]
  },
  {
   "cell_type": "code",
   "execution_count": 13,
   "id": "3202fc54",
   "metadata": {},
   "outputs": [],
   "source": [
    "# in an UPTREND whenever closing price closes above the upper band\n",
    "# in a DOWNTREND whenever closing price closes below the lower band\n",
    "def supertrend(df, period=7, atr_multiplier=3):\n",
    "    hl2 = (df['high'] + df['low']) / 2\n",
    "    df['atr'] = atr(df, period)\n",
    "    df['upperband'] = hl2 + (atr_multiplier * df['atr']) \n",
    "    # basic upper band = ((high + low) / 2) + (multiplier * atr) \n",
    "    df['lowerband'] = hl2 - (atr_multiplier * df['atr']) \n",
    "    # basic lower band = ((high + low) / 2) - (multiplier * atr)\n",
    "    df['in_uptrend'] = True\n",
    "\n",
    "    for current in range(1, len(df.index)):\n",
    "        previous = current - 1\n",
    "\n",
    "        if df['close'][current] > df['upperband'][previous]: # UPTREND\n",
    "            df['in_uptrend'][current] = True\n",
    "        elif df['close'][current] < df['lowerband'][previous]: # DOWNTREND\n",
    "            df['in_uptrend'][current] = False\n",
    "        else:\n",
    "            df['in_uptrend'][current] = df['in_uptrend'][previous] # in the same trend\n",
    "\n",
    "            if df['in_uptrend'][current] and df['lowerband'][current] < df['lowerband'][previous]:\n",
    "                df['lowerband'][current] = df['lowerband'][previous] # generates the flat portion of the lower band\n",
    "\n",
    "            if not df['in_uptrend'][current] and df['upperband'][current] > df['upperband'][previous]:\n",
    "                df['upperband'][current] = df['upperband'][previous] # generates the flat portion of the upper band\n",
    "        \n",
    "    return df"
   ]
  },
  {
   "cell_type": "code",
   "execution_count": 1,
   "id": "90c9f1b6",
   "metadata": {},
   "outputs": [],
   "source": [
    "# can pre-set this to force action, can buy in account manually change to True so it will then automate after\n",
    "in_position = False"
   ]
  },
  {
   "cell_type": "code",
   "execution_count": null,
   "id": "2e55e3c0",
   "metadata": {},
   "outputs": [],
   "source": [
    "def check_buy_sell_signals(df):\n",
    "    global in_position\n",
    "\n",
    "    print(\"checking for buy and sell signals\")\n",
    "    print(df.tail(5))\n",
    "    last_row_index = len(df.index) - 1\n",
    "    previous_row_index = last_row_index - 1\n",
    "\n",
    "    if not df['in_uptrend'][previous_row_index] and df['in_uptrend'][last_row_index]:\n",
    "        print(\"changed to uptrend, buy\") # buy on the uptrend\n",
    "        if not in_position:\n",
    "            order = kraken.create_market_buy_order('ETH/USD', 0.05)\n",
    "            print(order)\n",
    "            in_position = True\n",
    "        else:\n",
    "            print(\"already in position, nothing to do\") # stay if in same trend\n",
    "    \n",
    "    if df['in_uptrend'][previous_row_index] and not df['in_uptrend'][last_row_index]:\n",
    "        if in_position:\n",
    "            print(\"changed to downtrend, sell\") # sell on the downtrend\n",
    "            order = kraken.create_market_sell_order('ETH/USD', 0.05)\n",
    "            print(order)\n",
    "            in_position = False\n",
    "        else:\n",
    "            print(\"You aren't in position, nothing to sell\") # trend hasn't change to buy in yet"
   ]
  },
  {
   "cell_type": "code",
   "execution_count": null,
   "id": "00c7ef9b",
   "metadata": {},
   "outputs": [],
   "source": [
    "def run_bot():\n",
    "    print(f\"Fetching new bars for {datetime.now().isoformat()}\")\n",
    "    bars = kraken.fetch_ohlcv('ETH/USDT', timeframe='1m', limit=100) # limit is the number of units for the timeframe\n",
    "    df = pd.DataFrame(bars[:-1], columns=['timestamp', 'open', 'high', 'low', 'close', 'volume'])\n",
    "    df['timestamp'] = pd.to_datetime(df['timestamp'], unit='ms') # makes it more human readable\n",
    "\n",
    "    supertrend_data = supertrend(df)\n",
    "    \n",
    "    check_buy_sell_signals(supertrend_data)"
   ]
  },
  {
   "cell_type": "code",
   "execution_count": null,
   "id": "ef90ae28",
   "metadata": {},
   "outputs": [],
   "source": [
    "schedule.every(10).seconds.do(run_bot)\n",
    "\n",
    "while True:\n",
    "    schedule.run_pending()\n",
    "    time.sleep(1)"
   ]
  }
 ],
 "metadata": {
  "kernelspec": {
   "display_name": "Python 3",
   "language": "python",
   "name": "python3"
  },
  "language_info": {
   "codemirror_mode": {
    "name": "ipython",
    "version": 3
   },
   "file_extension": ".py",
   "mimetype": "text/x-python",
   "name": "python",
   "nbconvert_exporter": "python",
   "pygments_lexer": "ipython3",
   "version": "3.8.8"
  }
 },
 "nbformat": 4,
 "nbformat_minor": 5
}
